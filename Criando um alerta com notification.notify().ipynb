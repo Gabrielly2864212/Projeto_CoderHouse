{
 "cells": [
  {
   "cell_type": "code",
   "execution_count": 18,
   "metadata": {},
   "outputs": [],
   "source": [
    "# Importando a função notification\n",
    "from plyer import notification\n",
    "from datetime import datetime  # para obter a data e hora atual"
   ]
  },
  {
   "cell_type": "code",
   "execution_count": 19,
   "metadata": {},
   "outputs": [],
   "source": [
    "# Definindo a função de alerta\n",
    "def alerta(nivel, base, etapa):\n",
    "    # Definindo o título com base no nível\n",
    "    if nivel == 1:\n",
    "        titulo = \"Alerta Baixo\"\n",
    "    elif nivel == 2:\n",
    "        titulo = \"Alerta Médio\"\n",
    "    elif nivel == 3:\n",
    "        titulo = \"Alerta Alto\"\n",
    "    else:\n",
    "        titulo = \"Alerta Desconhecido\"\n",
    "\n",
    "    # Mensagem de notificação\n",
    "    mensagem = f\"Falha no carregamento da base {base} na etapa {etapa};\"\n",
    "    \n",
    "    # Data e hora atual\n",
    "    data_atual = datetime.now().strftime('%Y-%m-%d %H:%M:%S')\n",
    "    \n",
    "    # Enviar a notificação\n",
    "    notification.notify(\n",
    "        title=titulo,\n",
    "        message=f\"{mensagem}\\n{data_atual}\",\n",
    "        app_name=\"Meu Aplicativo\",\n",
    "        timeout=10\n",
    "    )"
   ]
  },
  {
   "cell_type": "code",
   "execution_count": 20,
   "metadata": {},
   "outputs": [],
   "source": [
    "# Teste da função de alerta\n",
    "alerta(nivel=2, base=\"CLIENTES\", etapa=\"EXTRACAO\")"
   ]
  }
 ],
 "metadata": {
  "kernelspec": {
   "display_name": "Python 3",
   "language": "python",
   "name": "python3"
  },
  "language_info": {
   "codemirror_mode": {
    "name": "ipython",
    "version": 3
   },
   "file_extension": ".py",
   "mimetype": "text/x-python",
   "name": "python",
   "nbconvert_exporter": "python",
   "pygments_lexer": "ipython3",
   "version": "3.12.1"
  }
 },
 "nbformat": 4,
 "nbformat_minor": 2
}
