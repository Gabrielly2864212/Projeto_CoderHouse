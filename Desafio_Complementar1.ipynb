{
 "cells": [
  {
   "cell_type": "code",
   "execution_count": 1,
   "metadata": {},
   "outputs": [
    {
     "name": "stdout",
     "output_type": "stream",
     "text": [
      "De acordo com o peso e altura informados, seu IMC é de: 33.06\n"
     ]
    }
   ],
   "source": [
    "#Desafio Complementar 1\n",
    "\n",
    "peso = float(input(\"Informe o seu peso em kg (digite apenas o número): \"))\n",
    "altura = float(input(\"Informa a sua altura em metros (digite apenas o número):\"))\n",
    "\n",
    "#Calcula o IMC com base no peso e altura informados pelo usuário\n",
    "IMC = peso / (altura**2) \n",
    "\n",
    "#Exibe o IMC do usuário\n",
    "print(f\"De acordo com o peso e altura informados, seu IMC é de: {IMC:.2f}\")"
   ]
  },
  {
   "cell_type": "code",
   "execution_count": 2,
   "metadata": {},
   "outputs": [
    {
     "name": "stdout",
     "output_type": "stream",
     "text": [
      "[5, 6, 8, 15, 95]\n"
     ]
    }
   ],
   "source": [
    "#Desafio Complementar 2\n",
    "\n",
    "lista = []\n",
    "\n",
    "lista.append(int(input(\"Digite o primeiro número inteiro: \")))\n",
    "lista.append(int(input(\"Digite o segundo número inteiro: \")))\n",
    "lista.append(int(input(\"Digite o terceiro número inteiro: \")))\n",
    "lista.append(int(input(\"Digite o quarto número inteiro: \")))\n",
    "lista.append(int(input(\"Digite o quinto número inteiro: \")))\n",
    "\n",
    "print(lista)"
   ]
  },
  {
   "cell_type": "code",
   "execution_count": 3,
   "metadata": {},
   "outputs": [
    {
     "data": {
      "text/plain": [
       "['Ana', ' Monique', ' Beatriz', ' Samantha', ' Laís']"
      ]
     },
     "execution_count": 3,
     "metadata": {},
     "output_type": "execute_result"
    }
   ],
   "source": [
    "#Desafio Complementar 3\n",
    "\n",
    "lista_usuario = input(\"Digite uma lista de nomes separados por vírgula: \")\n",
    "lista_usuario.split(\",\")"
   ]
  }
 ],
 "metadata": {
  "kernelspec": {
   "display_name": "Python 3",
   "language": "python",
   "name": "python3"
  },
  "language_info": {
   "codemirror_mode": {
    "name": "ipython",
    "version": 3
   },
   "file_extension": ".py",
   "mimetype": "text/x-python",
   "name": "python",
   "nbconvert_exporter": "python",
   "pygments_lexer": "ipython3",
   "version": "3.12.1"
  }
 },
 "nbformat": 4,
 "nbformat_minor": 2
}
