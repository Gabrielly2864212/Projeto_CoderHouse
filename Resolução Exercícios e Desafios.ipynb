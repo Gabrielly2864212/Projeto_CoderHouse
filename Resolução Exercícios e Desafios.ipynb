{
 "cells": [
  {
   "cell_type": "markdown",
   "metadata": {},
   "source": [
    "Exercício - Introdução a Programação"
   ]
  },
  {
   "cell_type": "code",
   "execution_count": 1,
   "metadata": {},
   "outputs": [
    {
     "name": "stdout",
     "output_type": "stream",
     "text": [
      "Hello World\n"
     ]
    }
   ],
   "source": [
    "print(\"Hello World\")"
   ]
  },
  {
   "cell_type": "markdown",
   "metadata": {},
   "source": [
    "Exercícios - Fundamentos de Programação 1 e 2"
   ]
  },
  {
   "cell_type": "code",
   "execution_count": 2,
   "metadata": {},
   "outputs": [
    {
     "name": "stdout",
     "output_type": "stream",
     "text": [
      "Seu novo saldo é: 610.10\n"
     ]
    }
   ],
   "source": [
    "# Exercício 1\n",
    "\n",
    "saldo = 950.60\n",
    "\n",
    "#Solicita ao usuário o valor desejado para o saque\n",
    "saque = float(input(\"Informe o valor que deseja sacar: \")) \n",
    "\n",
    "#Calcula o novo saldo depois do saque e exibe\n",
    "novo_saldo = saldo - saque \n",
    "print(f\"Seu novo saldo é: {novo_saldo:.2f}\")"
   ]
  },
  {
   "cell_type": "code",
   "execution_count": 13,
   "metadata": {},
   "outputs": [
    {
     "name": "stdout",
     "output_type": "stream",
     "text": [
      "A fruta pêra foi adicionada com sucesso!\n",
      "A fruta mamão foi adicionada com sucesso!\n",
      "A fruta goiaba foi adicionada com sucesso!\n",
      "A fruta melancia foi adicionada com sucesso!\n",
      "\n",
      "Lista final de frutas: ['laranja', 'maçã', 'banana', 'uva', 'abacaxi', 'pêra', 'mamão', 'goiaba', 'melancia']\n"
     ]
    }
   ],
   "source": [
    "# Exercício 2\n",
    "\n",
    "#Lista inicial com 5 frutas\n",
    "frutas = [\"laranja\",\"maçã\",\"banana\",\"uva\",\"abacaxi\"] \n",
    "\n",
    "#Loop para continuar pedindo frutas até o usuário decidir sair\n",
    "while True:\n",
    "    #Solicita que o usuário digite o nome de uma fruta\n",
    "    fruta = input(\"Digite o nome de uma fruta (ou 'sair' para encerrar): \").lower()\n",
    "\n",
    "    #Verifica se o usuário deseja sair do loop\n",
    "    if fruta == \"sair\":\n",
    "        break\n",
    "\n",
    "    #Verifica se a fruta já está na lista\n",
    "    if fruta in frutas:\n",
    "        print(f\"A fruta {fruta} já está na lista. Tente outra.\")\n",
    "    else:\n",
    "        #Adiciona a nova fruta à lista\n",
    "        frutas.append(fruta)\n",
    "        print(f\"A fruta {fruta} foi adicionada com sucesso!\")\n",
    "\n",
    "print(\"\\nLista final de frutas:\", frutas)\n"
   ]
  },
  {
   "cell_type": "code",
   "execution_count": 10,
   "metadata": {},
   "outputs": [
    {
     "name": "stdout",
     "output_type": "stream",
     "text": [
      "Frase com vogais substituídas: * c*m*s*t* d*l* é *m*r*l*\n"
     ]
    }
   ],
   "source": [
    "#Exercício 3\n",
    "\n",
    "#Solicita uma frase ao usuário\n",
    "frase = input(\"Digite uma frase: \")\n",
    "\n",
    "#Substitui todas as vogais por asteriscos\n",
    "frase = frase.replace(\"a\",\"*\")\n",
    "frase = frase.replace(\"e\",\"*\")\n",
    "frase = frase.replace(\"i\",\"*\")\n",
    "frase = frase.replace(\"o\",\"*\")\n",
    "frase = frase.replace(\"u\",\"*\")\n",
    "frase = frase.replace(\"A\",\"*\")\n",
    "frase = frase.replace(\"E\",\"*\")\n",
    "frase = frase.replace(\"I\",\"*\")\n",
    "frase = frase.replace(\"O\",\"*\")\n",
    "frase = frase.replace(\"U\",\"*\")\n",
    "\n",
    "#Exibe a nova frase\n",
    "print(f\"Frase com vogais substituídas: {frase}\")"
   ]
  },
  {
   "cell_type": "code",
   "execution_count": 16,
   "metadata": {},
   "outputs": [
    {
     "name": "stdout",
     "output_type": "stream",
     "text": [
      "A soma dos números digitados é: 14.0\n"
     ]
    }
   ],
   "source": [
    "#Exercício 4 - Complementar\n",
    "\n",
    "numero1 = float(input(\"Digite o primeiro número: \"))\n",
    "numero2 = float(input(\"Digite o segundo número: \"))\n",
    "soma = numero1 + numero2\n",
    "\n",
    "print(f\"A soma dos números digitados é: {soma}\")"
   ]
  },
  {
   "cell_type": "code",
   "execution_count": 19,
   "metadata": {},
   "outputs": [
    {
     "name": "stdout",
     "output_type": "stream",
     "text": [
      "De acordo com o peso e altura informados, seu IMC é de: 33.06\n"
     ]
    }
   ],
   "source": [
    "#Desafio Complementar 1\n",
    "\n",
    "peso = float(input(\"Informe o seu peso em kg (digite apenas o número): \"))\n",
    "altura = float(input(\"Informa a sua altura em metros (digite apenas o número):\"))\n",
    "\n",
    "#Calcula o IMC com base no peso e altura informados pelo usuário\n",
    "IMC = peso / (altura**2) \n",
    "\n",
    "#Exibe o IMC do usuário\n",
    "print(f\"De acordo com o peso e altura informados, seu IMC é de: {IMC:.2f}\")"
   ]
  },
  {
   "cell_type": "code",
   "execution_count": 21,
   "metadata": {},
   "outputs": [
    {
     "name": "stdout",
     "output_type": "stream",
     "text": [
      "[1, 5, 7, 8, 9]\n"
     ]
    }
   ],
   "source": [
    "#Desafio Complementar 2\n",
    "\n",
    "lista = []\n",
    "\n",
    "lista.append(int(input(\"Digite o primeiro número inteiro: \")))\n",
    "lista.append(int(input(\"Digite o segundo número inteiro: \")))\n",
    "lista.append(int(input(\"Digite o terceiro número inteiro: \")))\n",
    "lista.append(int(input(\"Digite o quarto número inteiro: \")))\n",
    "lista.append(int(input(\"Digite o quinto número inteiro: \")))\n",
    "\n",
    "print(lista)"
   ]
  },
  {
   "cell_type": "code",
   "execution_count": 31,
   "metadata": {},
   "outputs": [
    {
     "data": {
      "text/plain": [
       "['Amanda', ' Laura', ' Henrique', ' Elaine', ' Eli']"
      ]
     },
     "execution_count": 31,
     "metadata": {},
     "output_type": "execute_result"
    }
   ],
   "source": [
    "#Desafio Complementar 3\n",
    "\n",
    "lista_usuario = input(\"Digite uma lista de nomes separados por vírgula: \")\n",
    "lista_usuario.split(\",\")"
   ]
  },
  {
   "cell_type": "code",
   "execution_count": 41,
   "metadata": {},
   "outputs": [
    {
     "name": "stdout",
     "output_type": "stream",
     "text": [
      "O número 42 digitado é par\n"
     ]
    }
   ],
   "source": [
    "#Exercício 5\n",
    "\n",
    "numero = int(input(\"Informe um número inteiro: \"))\n",
    "\n",
    "if (numero % 2) == 0:\n",
    "    print(f\"O número {numero} digitado é par\")\n",
    "else:\n",
    "    print(f\"O número {numero} digitado é ímpar\")"
   ]
  },
  {
   "cell_type": "code",
   "execution_count": 45,
   "metadata": {},
   "outputs": [
    {
     "name": "stdout",
     "output_type": "stream",
     "text": [
      "'Eu' tem 2 caracteres\n",
      "'sou' tem 3 caracteres\n",
      "'apenas' tem 6 caracteres\n",
      "'uma' tem 3 caracteres\n",
      "'garota' tem 6 caracteres\n"
     ]
    }
   ],
   "source": [
    "#Exercício 6\n",
    "\n",
    "# Solicita que o usuário digite uma frase\n",
    "frase = input(\"Digite uma frase: \")\n",
    "\n",
    "# Divide a frase em palavras\n",
    "palavras = frase.split()\n",
    "\n",
    "# Exibe cada palavra e o número de caracteres\n",
    "for palavra in palavras:\n",
    "    print(f\"{palavra} tem {len(palavra)} caracteres\")"
   ]
  },
  {
   "cell_type": "code",
   "execution_count": 47,
   "metadata": {},
   "outputs": [
    {
     "name": "stdout",
     "output_type": "stream",
     "text": [
      "Senha incorreta, tente novamente\n",
      "Senha incorreta, tente novamente\n",
      "Senha incorreta, tente novamente\n",
      "Senha incorreta, tente novamente\n",
      "Senha correta! Acesso permitido.\n"
     ]
    }
   ],
   "source": [
    "#Exercício 7\n",
    "\n",
    "#Determinação da senha correta que deve ser digitada\n",
    "senha_correta = \"1234\"\n",
    "\n",
    "#Solicita uma senha ao usuário\n",
    "senha_digitada = input(\"Digite uma senha de quatro dígitos (a senha deve conter apenas números): \")\n",
    "\n",
    "while senha_digitada != senha_correta:\n",
    "    print(\"Senha incorreta, tente novamente\")\n",
    "    # Solicita novamente a senha ao usuário\n",
    "    senha_digitada = input(\"Digite uma senha de quatro dígitos (a senha deve conter apenas números): \")\n",
    "\n",
    "# Se a senha estiver correta, exibe uma mensagem de sucesso\n",
    "print(\"Senha correta! Acesso permitido.\")\n"
   ]
  },
  {
   "cell_type": "code",
   "execution_count": 53,
   "metadata": {},
   "outputs": [
    {
     "name": "stdout",
     "output_type": "stream",
     "text": [
      "O fatorial de 3 é 6\n"
     ]
    }
   ],
   "source": [
    "#Exercício 8\n",
    "\n",
    "# Solicita um número ao usuário\n",
    "n = int(input(\"Digite um número inteiro não negativo: \"))\n",
    "\n",
    "# Inicializa o fatorial como 1\n",
    "fatorial = 1\n",
    "contador = 1\n",
    "\n",
    "# Calcula o fatorial\n",
    "while contador <= n:\n",
    "    fatorial = fatorial * contador  # Multiplica o fatorial pelo contador\n",
    "    contador = contador + 1  # Incrementa o contador\n",
    "\n",
    "# Exibe o resultado\n",
    "print(\"O fatorial de\", n, \"é\", fatorial)"
   ]
  }
 ],
 "metadata": {
  "kernelspec": {
   "display_name": "Python 3",
   "language": "python",
   "name": "python3"
  },
  "language_info": {
   "codemirror_mode": {
    "name": "ipython",
    "version": 3
   },
   "file_extension": ".py",
   "mimetype": "text/x-python",
   "name": "python",
   "nbconvert_exporter": "python",
   "pygments_lexer": "ipython3",
   "version": "3.12.1"
  }
 },
 "nbformat": 4,
 "nbformat_minor": 2
}
