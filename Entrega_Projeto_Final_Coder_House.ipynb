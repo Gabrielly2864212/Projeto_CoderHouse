{
 "cells": [
  {
   "cell_type": "markdown",
   "metadata": {},
   "source": [
    "Importação de Bibliotecas"
   ]
  },
  {
   "cell_type": "code",
   "execution_count": 23,
   "metadata": {},
   "outputs": [],
   "source": [
    "# Importação de bibliotecas\n",
    "import requests  # Para acessar a API\n",
    "import pandas as pd  # Para manipular os dados\n",
    "import sqlite3  # Para armazenar os dados em SQLite"
   ]
  },
  {
   "cell_type": "markdown",
   "metadata": {},
   "source": [
    "Definição da URL da API e função para consultar dados"
   ]
  },
  {
   "cell_type": "code",
   "execution_count": 24,
   "metadata": {},
   "outputs": [],
   "source": [
    "# Definir a URL da API\n",
    "url_api = \"https://brasilapi.com.br/api/banks/v1\"\n",
    "\n",
    "# Função para acessar a API e retornar os dados\n",
    "def acessar_api(url):\n",
    "    try:\n",
    "        response = requests.get(url)  # Fazendo a requisição GET\n",
    "        response.raise_for_status()  # Verificando se houve erro na requisição\n",
    "        return response.json()  # Retorna os dados no formato JSON\n",
    "    except requests.exceptions.RequestException as e:\n",
    "        print(f\"Erro ao acessar a API: {e}\")\n",
    "        return None"
   ]
  },
  {
   "cell_type": "markdown",
   "metadata": {},
   "source": [
    "Obter dados da API"
   ]
  },
  {
   "cell_type": "code",
   "execution_count": 25,
   "metadata": {},
   "outputs": [
    {
     "name": "stdout",
     "output_type": "stream",
     "text": [
      "Dados extraídos com sucesso!\n"
     ]
    }
   ],
   "source": [
    "# Chamar a função para acessar a API\n",
    "dados = acessar_api(url_api)\n",
    "\n",
    "# Verificar se os dados foram obtidos com sucesso\n",
    "if dados:\n",
    "    print(\"Dados extraídos com sucesso!\")\n",
    "else:\n",
    "    print(\"Falha ao obter dados da API.\")"
   ]
  },
  {
   "cell_type": "markdown",
   "metadata": {},
   "source": [
    "Criar o DataFrame e tratar os dados"
   ]
  },
  {
   "cell_type": "code",
   "execution_count": 27,
   "metadata": {},
   "outputs": [
    {
     "name": "stdout",
     "output_type": "stream",
     "text": [
      "Dados tratados com sucesso!\n"
     ]
    },
    {
     "data": {
      "text/html": [
       "<div>\n",
       "<style scoped>\n",
       "    .dataframe tbody tr th:only-of-type {\n",
       "        vertical-align: middle;\n",
       "    }\n",
       "\n",
       "    .dataframe tbody tr th {\n",
       "        vertical-align: top;\n",
       "    }\n",
       "\n",
       "    .dataframe thead th {\n",
       "        text-align: right;\n",
       "    }\n",
       "</style>\n",
       "<table border=\"1\" class=\"dataframe\">\n",
       "  <thead>\n",
       "    <tr style=\"text-align: right;\">\n",
       "      <th></th>\n",
       "      <th>ISPB</th>\n",
       "      <th>Nome_Banco</th>\n",
       "      <th>Codigo_Banco</th>\n",
       "      <th>Nome_Completo</th>\n",
       "    </tr>\n",
       "  </thead>\n",
       "  <tbody>\n",
       "    <tr>\n",
       "      <th>0</th>\n",
       "      <td>00000000</td>\n",
       "      <td>BCO DO BRASIL S.A.</td>\n",
       "      <td>1.0</td>\n",
       "      <td>BANCO DO BRASIL S.A.</td>\n",
       "    </tr>\n",
       "    <tr>\n",
       "      <th>1</th>\n",
       "      <td>00000208</td>\n",
       "      <td>BRB - BCO DE BRASILIA S.A.</td>\n",
       "      <td>70.0</td>\n",
       "      <td>BRB - BANCO DE BRASILIA S.A.</td>\n",
       "    </tr>\n",
       "    <tr>\n",
       "      <th>2</th>\n",
       "      <td>00038121</td>\n",
       "      <td>SELIC</td>\n",
       "      <td>Desconhecido</td>\n",
       "      <td>BANCO CENTRAL DO BRASIL - SELIC</td>\n",
       "    </tr>\n",
       "    <tr>\n",
       "      <th>3</th>\n",
       "      <td>00038166</td>\n",
       "      <td>BACEN</td>\n",
       "      <td>Desconhecido</td>\n",
       "      <td>BANCO CENTRAL DO BRASIL</td>\n",
       "    </tr>\n",
       "    <tr>\n",
       "      <th>4</th>\n",
       "      <td>00122327</td>\n",
       "      <td>SANTINVEST S.A. - CFI</td>\n",
       "      <td>539.0</td>\n",
       "      <td>SANTINVEST S.A. - CREDITO, FINANCIAMENTO E INV...</td>\n",
       "    </tr>\n",
       "  </tbody>\n",
       "</table>\n",
       "</div>"
      ],
      "text/plain": [
       "       ISPB                  Nome_Banco  Codigo_Banco  \\\n",
       "0  00000000          BCO DO BRASIL S.A.           1.0   \n",
       "1  00000208  BRB - BCO DE BRASILIA S.A.          70.0   \n",
       "2  00038121                       SELIC  Desconhecido   \n",
       "3  00038166                       BACEN  Desconhecido   \n",
       "4  00122327       SANTINVEST S.A. - CFI         539.0   \n",
       "\n",
       "                                       Nome_Completo  \n",
       "0                               BANCO DO BRASIL S.A.  \n",
       "1                       BRB - BANCO DE BRASILIA S.A.  \n",
       "2                    BANCO CENTRAL DO BRASIL - SELIC  \n",
       "3                            BANCO CENTRAL DO BRASIL  \n",
       "4  SANTINVEST S.A. - CREDITO, FINANCIAMENTO E INV...  "
      ]
     },
     "metadata": {},
     "output_type": "display_data"
    }
   ],
   "source": [
    "# Se os dados foram obtidos, criamos o DataFrame\n",
    "if dados:\n",
    "    df_principal = pd.DataFrame(dados)\n",
    "    \n",
    "    # Remover duplicatas e substituir valores nulos\n",
    "    df_principal = df_principal.drop_duplicates()\n",
    "    df_principal = df_principal.fillna('Desconhecido')\n",
    "\n",
    "    # Padronizar os nomes das colunas\n",
    "    df_principal.columns = ['ISPB', 'Nome_Banco', 'Codigo_Banco', 'Nome_Completo']\n",
    "\n",
    "    # Normalizar o texto nas colunas de nome\n",
    "    df_principal['Nome_Banco'] = df_principal['Nome_Banco'].str.upper()\n",
    "    df_principal['Nome_Completo'] = df_principal['Nome_Completo'].str.upper()\n",
    "\n",
    "    print(\"Dados tratados com sucesso!\")\n",
    "    display(df_principal.head())  # Exibindo as primeiras linhas para conferirmos"
   ]
  },
  {
   "cell_type": "markdown",
   "metadata": {},
   "source": [
    "Tabelas filtradas"
   ]
  },
  {
   "cell_type": "markdown",
   "metadata": {},
   "source": [
    "Tabela 1: Todos os Dados (Dados Brutos Tratados)"
   ]
  },
  {
   "cell_type": "code",
   "execution_count": 29,
   "metadata": {},
   "outputs": [
    {
     "name": "stdout",
     "output_type": "stream",
     "text": [
      "Tabela 1: Todos os Dados Tratados\n"
     ]
    },
    {
     "data": {
      "text/html": [
       "<div>\n",
       "<style scoped>\n",
       "    .dataframe tbody tr th:only-of-type {\n",
       "        vertical-align: middle;\n",
       "    }\n",
       "\n",
       "    .dataframe tbody tr th {\n",
       "        vertical-align: top;\n",
       "    }\n",
       "\n",
       "    .dataframe thead th {\n",
       "        text-align: right;\n",
       "    }\n",
       "</style>\n",
       "<table border=\"1\" class=\"dataframe\">\n",
       "  <thead>\n",
       "    <tr style=\"text-align: right;\">\n",
       "      <th></th>\n",
       "      <th>ISPB</th>\n",
       "      <th>Nome_Banco</th>\n",
       "      <th>Codigo_Banco</th>\n",
       "      <th>Nome_Completo</th>\n",
       "    </tr>\n",
       "  </thead>\n",
       "  <tbody>\n",
       "    <tr>\n",
       "      <th>0</th>\n",
       "      <td>00000000</td>\n",
       "      <td>BCO DO BRASIL S.A.</td>\n",
       "      <td>1.0</td>\n",
       "      <td>BANCO DO BRASIL S.A.</td>\n",
       "    </tr>\n",
       "    <tr>\n",
       "      <th>1</th>\n",
       "      <td>00000208</td>\n",
       "      <td>BRB - BCO DE BRASILIA S.A.</td>\n",
       "      <td>70.0</td>\n",
       "      <td>BRB - BANCO DE BRASILIA S.A.</td>\n",
       "    </tr>\n",
       "    <tr>\n",
       "      <th>2</th>\n",
       "      <td>00038121</td>\n",
       "      <td>SELIC</td>\n",
       "      <td>Desconhecido</td>\n",
       "      <td>BANCO CENTRAL DO BRASIL - SELIC</td>\n",
       "    </tr>\n",
       "    <tr>\n",
       "      <th>3</th>\n",
       "      <td>00038166</td>\n",
       "      <td>BACEN</td>\n",
       "      <td>Desconhecido</td>\n",
       "      <td>BANCO CENTRAL DO BRASIL</td>\n",
       "    </tr>\n",
       "    <tr>\n",
       "      <th>4</th>\n",
       "      <td>00122327</td>\n",
       "      <td>SANTINVEST S.A. - CFI</td>\n",
       "      <td>539.0</td>\n",
       "      <td>SANTINVEST S.A. - CREDITO, FINANCIAMENTO E INV...</td>\n",
       "    </tr>\n",
       "  </tbody>\n",
       "</table>\n",
       "</div>"
      ],
      "text/plain": [
       "       ISPB                  Nome_Banco  Codigo_Banco  \\\n",
       "0  00000000          BCO DO BRASIL S.A.           1.0   \n",
       "1  00000208  BRB - BCO DE BRASILIA S.A.          70.0   \n",
       "2  00038121                       SELIC  Desconhecido   \n",
       "3  00038166                       BACEN  Desconhecido   \n",
       "4  00122327       SANTINVEST S.A. - CFI         539.0   \n",
       "\n",
       "                                       Nome_Completo  \n",
       "0                               BANCO DO BRASIL S.A.  \n",
       "1                       BRB - BANCO DE BRASILIA S.A.  \n",
       "2                    BANCO CENTRAL DO BRASIL - SELIC  \n",
       "3                            BANCO CENTRAL DO BRASIL  \n",
       "4  SANTINVEST S.A. - CREDITO, FINANCIAMENTO E INV...  "
      ]
     },
     "metadata": {},
     "output_type": "display_data"
    }
   ],
   "source": [
    "# Tabela 1: Todos os dados tratados\n",
    "df_tabela1 = df_principal.copy()\n",
    "print(\"Tabela 1: Todos os Dados Tratados\")\n",
    "display(df_tabela1.head())\n"
   ]
  },
  {
   "cell_type": "markdown",
   "metadata": {},
   "source": [
    "Tabela 2: Bancos com Código Ímpar"
   ]
  },
  {
   "cell_type": "code",
   "execution_count": 31,
   "metadata": {},
   "outputs": [
    {
     "name": "stdout",
     "output_type": "stream",
     "text": [
      "Tabela 2: Bancos com Código Ímpar\n"
     ]
    },
    {
     "data": {
      "text/html": [
       "<div>\n",
       "<style scoped>\n",
       "    .dataframe tbody tr th:only-of-type {\n",
       "        vertical-align: middle;\n",
       "    }\n",
       "\n",
       "    .dataframe tbody tr th {\n",
       "        vertical-align: top;\n",
       "    }\n",
       "\n",
       "    .dataframe thead th {\n",
       "        text-align: right;\n",
       "    }\n",
       "</style>\n",
       "<table border=\"1\" class=\"dataframe\">\n",
       "  <thead>\n",
       "    <tr style=\"text-align: right;\">\n",
       "      <th></th>\n",
       "      <th>ISPB</th>\n",
       "      <th>Nome_Banco</th>\n",
       "      <th>Codigo_Banco</th>\n",
       "      <th>Nome_Completo</th>\n",
       "    </tr>\n",
       "  </thead>\n",
       "  <tbody>\n",
       "    <tr>\n",
       "      <th>0</th>\n",
       "      <td>00000000</td>\n",
       "      <td>BCO DO BRASIL S.A.</td>\n",
       "      <td>1</td>\n",
       "      <td>BANCO DO BRASIL S.A.</td>\n",
       "    </tr>\n",
       "    <tr>\n",
       "      <th>4</th>\n",
       "      <td>00122327</td>\n",
       "      <td>SANTINVEST S.A. - CFI</td>\n",
       "      <td>539</td>\n",
       "      <td>SANTINVEST S.A. - CREDITO, FINANCIAMENTO E INV...</td>\n",
       "    </tr>\n",
       "    <tr>\n",
       "      <th>8</th>\n",
       "      <td>00329598</td>\n",
       "      <td>ÍNDIGO INVESTIMENTOS DTVM LTDA.</td>\n",
       "      <td>407</td>\n",
       "      <td>ÍNDIGO INVESTIMENTOS DISTRIBUIDORA DE TÍTULOS ...</td>\n",
       "    </tr>\n",
       "    <tr>\n",
       "      <th>11</th>\n",
       "      <td>00416968</td>\n",
       "      <td>BANCO INTER</td>\n",
       "      <td>77</td>\n",
       "      <td>BANCO INTER S.A.</td>\n",
       "    </tr>\n",
       "    <tr>\n",
       "      <th>12</th>\n",
       "      <td>00460065</td>\n",
       "      <td>COLUNA S.A. DTVM</td>\n",
       "      <td>423</td>\n",
       "      <td>COLUNA S/A DISTRIBUIDORA DE TITULOS E VALORES ...</td>\n",
       "    </tr>\n",
       "  </tbody>\n",
       "</table>\n",
       "</div>"
      ],
      "text/plain": [
       "        ISPB                       Nome_Banco  Codigo_Banco  \\\n",
       "0   00000000               BCO DO BRASIL S.A.             1   \n",
       "4   00122327            SANTINVEST S.A. - CFI           539   \n",
       "8   00329598  ÍNDIGO INVESTIMENTOS DTVM LTDA.           407   \n",
       "11  00416968                      BANCO INTER            77   \n",
       "12  00460065                 COLUNA S.A. DTVM           423   \n",
       "\n",
       "                                        Nome_Completo  \n",
       "0                                BANCO DO BRASIL S.A.  \n",
       "4   SANTINVEST S.A. - CREDITO, FINANCIAMENTO E INV...  \n",
       "8   ÍNDIGO INVESTIMENTOS DISTRIBUIDORA DE TÍTULOS ...  \n",
       "11                                   BANCO INTER S.A.  \n",
       "12  COLUNA S/A DISTRIBUIDORA DE TITULOS E VALORES ...  "
      ]
     },
     "metadata": {},
     "output_type": "display_data"
    }
   ],
   "source": [
    "# Convertendo 'Codigo_Banco' para numérico\n",
    "df_principal['Codigo_Banco'] = pd.to_numeric(df_principal['Codigo_Banco'], errors='coerce')\n",
    "\n",
    "# Remover linhas onde 'Codigo_Banco' seja nulo\n",
    "df_principal = df_principal.dropna(subset=['Codigo_Banco'])\n",
    "\n",
    "# Garantir que 'Codigo_Banco' seja inteiro\n",
    "df_principal['Codigo_Banco'] = df_principal['Codigo_Banco'].astype(int)\n",
    "\n",
    "# Filtrar bancos com código ímpar\n",
    "df_tabela2 = df_principal[df_principal['Codigo_Banco'] % 2 != 0]\n",
    "print(\"Tabela 2: Bancos com Código Ímpar\")\n",
    "display(df_tabela2.head())"
   ]
  },
  {
   "cell_type": "markdown",
   "metadata": {},
   "source": [
    "Tabela 3: Bancos com Nome Reduzido"
   ]
  },
  {
   "cell_type": "code",
   "execution_count": 33,
   "metadata": {},
   "outputs": [
    {
     "name": "stdout",
     "output_type": "stream",
     "text": [
      "Tabela 3: Bancos com Nome Reduzido\n"
     ]
    },
    {
     "data": {
      "text/html": [
       "<div>\n",
       "<style scoped>\n",
       "    .dataframe tbody tr th:only-of-type {\n",
       "        vertical-align: middle;\n",
       "    }\n",
       "\n",
       "    .dataframe tbody tr th {\n",
       "        vertical-align: top;\n",
       "    }\n",
       "\n",
       "    .dataframe thead th {\n",
       "        text-align: right;\n",
       "    }\n",
       "</style>\n",
       "<table border=\"1\" class=\"dataframe\">\n",
       "  <thead>\n",
       "    <tr style=\"text-align: right;\">\n",
       "      <th></th>\n",
       "      <th>ISPB</th>\n",
       "      <th>Nome_Banco</th>\n",
       "      <th>Codigo_Banco</th>\n",
       "      <th>Nome_Completo</th>\n",
       "    </tr>\n",
       "  </thead>\n",
       "  <tbody>\n",
       "    <tr>\n",
       "      <th>5</th>\n",
       "      <td>00204963</td>\n",
       "      <td>CCR SEARA</td>\n",
       "      <td>430</td>\n",
       "      <td>COOPERATIVA DE CREDITO RURAL SEARA - CREDISEARA</td>\n",
       "    </tr>\n",
       "    <tr>\n",
       "      <th>52</th>\n",
       "      <td>03973814</td>\n",
       "      <td>SERVICOOP</td>\n",
       "      <td>190</td>\n",
       "      <td>SERVICOOP - COOPERATIVA DE CRÉDITO DOS SERVIDO...</td>\n",
       "    </tr>\n",
       "    <tr>\n",
       "      <th>147</th>\n",
       "      <td>16695922</td>\n",
       "      <td>ID CTVM</td>\n",
       "      <td>439</td>\n",
       "      <td>ID CORRETORA DE TÍTULOS E VALORES MOBILIÁRIOS ...</td>\n",
       "    </tr>\n",
       "    <tr>\n",
       "      <th>170</th>\n",
       "      <td>22896431</td>\n",
       "      <td>PICPAY</td>\n",
       "      <td>380</td>\n",
       "      <td>PICPAY INSTITUIÇÃO DE PAGAMENTO S.A.</td>\n",
       "    </tr>\n",
       "    <tr>\n",
       "      <th>177</th>\n",
       "      <td>27302181</td>\n",
       "      <td>CRED-UFES</td>\n",
       "      <td>427</td>\n",
       "      <td>COOPERATIVA DE CREDITO DOS SERVIDORES DA UNIVE...</td>\n",
       "    </tr>\n",
       "  </tbody>\n",
       "</table>\n",
       "</div>"
      ],
      "text/plain": [
       "         ISPB Nome_Banco  Codigo_Banco  \\\n",
       "5    00204963  CCR SEARA           430   \n",
       "52   03973814  SERVICOOP           190   \n",
       "147  16695922    ID CTVM           439   \n",
       "170  22896431     PICPAY           380   \n",
       "177  27302181  CRED-UFES           427   \n",
       "\n",
       "                                         Nome_Completo  \n",
       "5      COOPERATIVA DE CREDITO RURAL SEARA - CREDISEARA  \n",
       "52   SERVICOOP - COOPERATIVA DE CRÉDITO DOS SERVIDO...  \n",
       "147  ID CORRETORA DE TÍTULOS E VALORES MOBILIÁRIOS ...  \n",
       "170               PICPAY INSTITUIÇÃO DE PAGAMENTO S.A.  \n",
       "177  COOPERATIVA DE CREDITO DOS SERVIDORES DA UNIVE...  "
      ]
     },
     "metadata": {},
     "output_type": "display_data"
    }
   ],
   "source": [
    "# Filtrar bancos com nomes menores que 10 caracteres\n",
    "df_tabela3 = df_principal[df_principal['Nome_Banco'].str.len() < 10]\n",
    "print(\"Tabela 3: Bancos com Nome Reduzido\")\n",
    "display(df_tabela3.head())"
   ]
  },
  {
   "cell_type": "markdown",
   "metadata": {},
   "source": [
    "Conectar ao banco SQLite e salvar as tabelas"
   ]
  },
  {
   "cell_type": "code",
   "execution_count": 34,
   "metadata": {},
   "outputs": [
    {
     "name": "stdout",
     "output_type": "stream",
     "text": [
      "Tabelas armazenadas com sucesso no banco SQLite 'bancos_brasilapi.db'.\n"
     ]
    }
   ],
   "source": [
    "# Conectar ao banco SQLite\n",
    "conexao = sqlite3.connect(\"bancos_brasilapi.db\")\n",
    "\n",
    "# Salvar as tabelas no banco de dados\n",
    "df_tabela1.to_sql(\"todos_bancos\", conexao, if_exists=\"replace\", index=False)\n",
    "df_tabela2.to_sql(\"bancos_codigo_impar\", conexao, if_exists=\"replace\", index=False)\n",
    "df_tabela3.to_sql(\"bancos_nome_reduzido\", conexao, if_exists=\"replace\", index=False)\n",
    "\n",
    "# Fechar conexão\n",
    "conexao.close()\n",
    "print(\"Tabelas armazenadas com sucesso no banco SQLite 'bancos_brasilapi.db'.\")"
   ]
  },
  {
   "cell_type": "markdown",
   "metadata": {},
   "source": [
    "Verificar bancos com Codigo_Banco igual a zero"
   ]
  },
  {
   "cell_type": "code",
   "execution_count": 35,
   "metadata": {},
   "outputs": [
    {
     "name": "stdout",
     "output_type": "stream",
     "text": [
      "Nenhum banco com 'Codigo_Banco' igual a 0 encontrado.\n"
     ]
    }
   ],
   "source": [
    "# Verificar bancos com Codigo_Banco igual a 0\n",
    "bancos_codigo_zero = df_tabela1[df_tabela1['Codigo_Banco'] == 0]\n",
    "\n",
    "if not bancos_codigo_zero.empty:\n",
    "    print(\"⚠️ Alerta: Existem bancos com 'Codigo_Banco' igual a 0:\")\n",
    "    print(bancos_codigo_zero)\n",
    "else:\n",
    "    print(\"Nenhum banco com 'Codigo_Banco' igual a 0 encontrado.\")"
   ]
  }
 ],
 "metadata": {
  "kernelspec": {
   "display_name": "Python 3",
   "language": "python",
   "name": "python3"
  },
  "language_info": {
   "codemirror_mode": {
    "name": "ipython",
    "version": 3
   },
   "file_extension": ".py",
   "mimetype": "text/x-python",
   "name": "python",
   "nbconvert_exporter": "python",
   "pygments_lexer": "ipython3",
   "version": "3.12.1"
  }
 },
 "nbformat": 4,
 "nbformat_minor": 2
}
