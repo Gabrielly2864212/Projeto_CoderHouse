{
 "cells": [
  {
   "cell_type": "markdown",
   "metadata": {},
   "source": [
    "Requirements"
   ]
  },
  {
   "cell_type": "code",
   "execution_count": 53,
   "metadata": {},
   "outputs": [
    {
     "name": "stdout",
     "output_type": "stream",
     "text": [
      "Arquivo 'requirements.txt' criado com sucesso!\n"
     ]
    }
   ],
   "source": [
    "with open(\"requirements.txt\", \"w\") as f:\n",
    "    f.write(\"requests==2.31.0\\n\")  # Versão mais recente compatível com o código\n",
    "    f.write(\"pandas==1.5.3\\n\")     # Versão compatível com a manipulação de dados\n",
    "    f.write(\"sqlite3==3.8.3\\n\")    # Parte do Python, só para referência\n",
    "\n",
    "print(\"Arquivo 'requirements.txt' criado com sucesso!\")"
   ]
  },
  {
   "cell_type": "markdown",
   "metadata": {},
   "source": [
    "Bibliotecas"
   ]
  },
  {
   "cell_type": "code",
   "execution_count": 54,
   "metadata": {},
   "outputs": [],
   "source": [
    "# Importar bibliotecas\n",
    "import requests  # Para acessar a API\n",
    "import pandas as pd  # Para manipular os dados\n",
    "import sqlite3  # Para armazenar os dados em SQLite"
   ]
  },
  {
   "cell_type": "markdown",
   "metadata": {},
   "source": [
    "Função para acessar a API e retornar os dados"
   ]
  },
  {
   "cell_type": "code",
   "execution_count": 55,
   "metadata": {},
   "outputs": [],
   "source": [
    "def acessar_api(url):\n",
    "    try:\n",
    "        response = requests.get(url)  # Fazendo a requisição GET\n",
    "        response.raise_for_status()  # Verificando se houve erro na requisição\n",
    "        return response.json()  # Retorna os dados no formato JSON\n",
    "    except requests.exceptions.RequestException as e:\n",
    "        print(f\"Erro ao acessar a API ({url}): {e}\")\n",
    "        return None"
   ]
  },
  {
   "cell_type": "markdown",
   "metadata": {},
   "source": [
    "APIs"
   ]
  },
  {
   "cell_type": "code",
   "execution_count": 56,
   "metadata": {},
   "outputs": [
    {
     "name": "stdout",
     "output_type": "stream",
     "text": [
      "Dados de todas as APIs extraídos com sucesso!\n"
     ]
    }
   ],
   "source": [
    "# URL das APIs\n",
    "url_bancos = \"https://brasilapi.com.br/api/banks/v1\"\n",
    "url_feriados = \"https://brasilapi.com.br/api/feriados/v1/2024\"\n",
    "url_cnpjs = \"https://brasilapi.com.br/api/cnpj/v1/00000000000191\"\n",
    "\n",
    "# Extrair dados das APIs\n",
    "dados_bancos = acessar_api(url_bancos)\n",
    "dados_feriados = acessar_api(url_feriados)\n",
    "dados_cnpj = acessar_api(url_cnpjs)\n",
    "\n",
    "# Verificar se os dados foram obtidos\n",
    "if dados_bancos and dados_feriados and dados_cnpj:\n",
    "    print(\"Dados de todas as APIs extraídos com sucesso!\")\n",
    "else:\n",
    "    if not dados_bancos:\n",
    "        print(\"⚠️ Alerta: Não foi possível obter os dados da API de Bancos.\")\n",
    "    if not dados_feriados:\n",
    "        print(\"⚠️ Alerta: Não foi possível obter os dados da API de Feriados.\")\n",
    "    if not dados_cnpj:\n",
    "        print(\"⚠️ Alerta: Não foi possível obter os dados da API de CNPJ.\")"
   ]
  },
  {
   "cell_type": "markdown",
   "metadata": {},
   "source": [
    "Tabela 1: Dados de Bancos"
   ]
  },
  {
   "cell_type": "code",
   "execution_count": 57,
   "metadata": {},
   "outputs": [
    {
     "name": "stdout",
     "output_type": "stream",
     "text": [
      "Tabela de Bancos criada com sucesso!\n"
     ]
    }
   ],
   "source": [
    "if dados_bancos:\n",
    "    df_bancos = pd.DataFrame(dados_bancos)\n",
    "    df_bancos = df_bancos.drop_duplicates()  # Remover duplicatas, pois dados repetidos não são úteis\n",
    "    df_bancos = df_bancos.fillna(\"Desconhecido\")  # Preencher valores nulos com \"Desconhecido\", justificável para evitar dados incompletos\n",
    "    df_bancos.columns = ['ISPB', 'Nome_Banco', 'Codigo_Banco', 'Nome_Completo']\n",
    "    df_bancos['Nome_Banco'] = df_bancos['Nome_Banco'].str.upper()\n",
    "    df_bancos['Nome_Completo'] = df_bancos['Nome_Completo'].str.upper()\n",
    "    print(\"Tabela de Bancos criada com sucesso!\")\n",
    "else:\n",
    "    df_bancos = pd.DataFrame()"
   ]
  },
  {
   "cell_type": "markdown",
   "metadata": {},
   "source": [
    "Tabela 2: Dados de Feriados"
   ]
  },
  {
   "cell_type": "code",
   "execution_count": 60,
   "metadata": {},
   "outputs": [
    {
     "name": "stdout",
     "output_type": "stream",
     "text": [
      "⚠️ Formato inesperado dos dados de feriados.\n"
     ]
    },
    {
     "data": {
      "text/html": [
       "<div>\n",
       "<style scoped>\n",
       "    .dataframe tbody tr th:only-of-type {\n",
       "        vertical-align: middle;\n",
       "    }\n",
       "\n",
       "    .dataframe tbody tr th {\n",
       "        vertical-align: top;\n",
       "    }\n",
       "\n",
       "    .dataframe thead th {\n",
       "        text-align: right;\n",
       "    }\n",
       "</style>\n",
       "<table border=\"1\" class=\"dataframe\">\n",
       "  <thead>\n",
       "    <tr style=\"text-align: right;\">\n",
       "      <th></th>\n",
       "      <th>date</th>\n",
       "      <th>name</th>\n",
       "      <th>type</th>\n",
       "    </tr>\n",
       "  </thead>\n",
       "  <tbody>\n",
       "    <tr>\n",
       "      <th>0</th>\n",
       "      <td>2024-01-01</td>\n",
       "      <td>Confraternização mundial</td>\n",
       "      <td>national</td>\n",
       "    </tr>\n",
       "    <tr>\n",
       "      <th>1</th>\n",
       "      <td>2024-02-13</td>\n",
       "      <td>Carnaval</td>\n",
       "      <td>national</td>\n",
       "    </tr>\n",
       "    <tr>\n",
       "      <th>2</th>\n",
       "      <td>2024-03-29</td>\n",
       "      <td>Sexta-feira Santa</td>\n",
       "      <td>national</td>\n",
       "    </tr>\n",
       "    <tr>\n",
       "      <th>3</th>\n",
       "      <td>2024-03-31</td>\n",
       "      <td>Páscoa</td>\n",
       "      <td>national</td>\n",
       "    </tr>\n",
       "    <tr>\n",
       "      <th>4</th>\n",
       "      <td>2024-04-21</td>\n",
       "      <td>Tiradentes</td>\n",
       "      <td>national</td>\n",
       "    </tr>\n",
       "  </tbody>\n",
       "</table>\n",
       "</div>"
      ],
      "text/plain": [
       "         date                      name      type\n",
       "0  2024-01-01  Confraternização mundial  national\n",
       "1  2024-02-13                  Carnaval  national\n",
       "2  2024-03-29         Sexta-feira Santa  national\n",
       "3  2024-03-31                    Páscoa  national\n",
       "4  2024-04-21                Tiradentes  national"
      ]
     },
     "metadata": {},
     "output_type": "display_data"
    }
   ],
   "source": [
    "if dados_feriados:\n",
    "    df_feriados = pd.DataFrame(dados_feriados)\n",
    "    if len(df_feriados.columns) == 2:  # Verificar se o número de colunas é o esperado\n",
    "        df_feriados.columns = ['Data', 'Nome']\n",
    "        print(\"Tabela de Feriados criada com sucesso!\")\n",
    "    else:\n",
    "        print(\"⚠️ Formato inesperado dos dados de feriados.\")\n",
    "        display(df_feriados.head())\n",
    "else:\n",
    "    df_feriados = pd.DataFrame()"
   ]
  },
  {
   "cell_type": "markdown",
   "metadata": {},
   "source": [
    "Tabela 3: Dados de CNPJ"
   ]
  },
  {
   "cell_type": "code",
   "execution_count": 61,
   "metadata": {},
   "outputs": [
    {
     "data": {
      "text/plain": [
       "'Tabela de CNPJ criada com sucesso!'"
      ]
     },
     "metadata": {},
     "output_type": "display_data"
    }
   ],
   "source": [
    "if dados_cnpj:\n",
    "    df_cnpj = pd.json_normalize(dados_cnpj)  # Normalizar os dados JSON aninhados\n",
    "    # Filtrar colunas relevantes para evitar redundâncias no banco de dados\n",
    "    colunas_relevantes = ['cnpj', 'razao_social', 'descricao_situacao_cadastral']\n",
    "    df_cnpj = df_cnpj[colunas_relevantes]\n",
    "    # Preencher valores nulos com \"Desconhecido\", justificável para garantir integridade dos dados\n",
    "    df_cnpj = df_cnpj.fillna(\"Desconhecido\")\n",
    "    display(\"Tabela de CNPJ criada com sucesso!\")\n",
    "else:\n",
    "    df_cnpj = pd.DataFrame()"
   ]
  },
  {
   "cell_type": "markdown",
   "metadata": {},
   "source": [
    "Conectar e Salvar no Banco de Dados"
   ]
  },
  {
   "cell_type": "code",
   "execution_count": 62,
   "metadata": {},
   "outputs": [],
   "source": [
    "# Conectar ao banco SQLite\n",
    "conexao = sqlite3.connect(\"dados_multiplas_apis.db\")"
   ]
  },
  {
   "cell_type": "code",
   "execution_count": 63,
   "metadata": {},
   "outputs": [],
   "source": [
    "# Salvar as tabelas no banco de dados\n",
    "if not df_bancos.empty:\n",
    "    df_bancos.to_sql(\"tabela_bancos\", conexao, if_exists=\"replace\", index=False)\n",
    "if not df_feriados.empty:\n",
    "    df_feriados.to_sql(\"tabela_feriados\", conexao, if_exists=\"replace\", index=False)\n",
    "if not df_cnpj.empty:\n",
    "    df_cnpj.to_sql(\"tabela_cnpj\", conexao, if_exists=\"replace\", index=False)"
   ]
  },
  {
   "cell_type": "markdown",
   "metadata": {},
   "source": [
    "Fechar Conexão"
   ]
  },
  {
   "cell_type": "code",
   "execution_count": 64,
   "metadata": {},
   "outputs": [
    {
     "data": {
      "text/plain": [
       "\"Todas as tabelas foram armazenadas com sucesso no banco SQLite 'dados_multiplas_apis.db'.\""
      ]
     },
     "metadata": {},
     "output_type": "display_data"
    }
   ],
   "source": [
    "# Fechar conexão\n",
    "conexao.close()\n",
    "display(\"Todas as tabelas foram armazenadas com sucesso no banco SQLite 'dados_multiplas_apis.db'.\")"
   ]
  },
  {
   "cell_type": "markdown",
   "metadata": {},
   "source": [
    "Validação"
   ]
  },
  {
   "cell_type": "code",
   "execution_count": 65,
   "metadata": {},
   "outputs": [],
   "source": [
    "# Validar os dados exportados no banco SQLite\n",
    "conexao = sqlite3.connect(\"dados_multiplas_apis.db\")"
   ]
  },
  {
   "cell_type": "code",
   "execution_count": 66,
   "metadata": {},
   "outputs": [
    {
     "data": {
      "text/plain": [
       "'Validação - Tabela de Bancos:'"
      ]
     },
     "metadata": {},
     "output_type": "display_data"
    },
    {
     "data": {
      "text/html": [
       "<div>\n",
       "<style scoped>\n",
       "    .dataframe tbody tr th:only-of-type {\n",
       "        vertical-align: middle;\n",
       "    }\n",
       "\n",
       "    .dataframe tbody tr th {\n",
       "        vertical-align: top;\n",
       "    }\n",
       "\n",
       "    .dataframe thead th {\n",
       "        text-align: right;\n",
       "    }\n",
       "</style>\n",
       "<table border=\"1\" class=\"dataframe\">\n",
       "  <thead>\n",
       "    <tr style=\"text-align: right;\">\n",
       "      <th></th>\n",
       "      <th>ISPB</th>\n",
       "      <th>Nome_Banco</th>\n",
       "      <th>Codigo_Banco</th>\n",
       "      <th>Nome_Completo</th>\n",
       "    </tr>\n",
       "  </thead>\n",
       "  <tbody>\n",
       "    <tr>\n",
       "      <th>0</th>\n",
       "      <td>00000000</td>\n",
       "      <td>BCO DO BRASIL S.A.</td>\n",
       "      <td>1.0</td>\n",
       "      <td>BANCO DO BRASIL S.A.</td>\n",
       "    </tr>\n",
       "    <tr>\n",
       "      <th>1</th>\n",
       "      <td>00000208</td>\n",
       "      <td>BRB - BCO DE BRASILIA S.A.</td>\n",
       "      <td>70.0</td>\n",
       "      <td>BRB - BANCO DE BRASILIA S.A.</td>\n",
       "    </tr>\n",
       "    <tr>\n",
       "      <th>2</th>\n",
       "      <td>00038121</td>\n",
       "      <td>SELIC</td>\n",
       "      <td>Desconhecido</td>\n",
       "      <td>BANCO CENTRAL DO BRASIL - SELIC</td>\n",
       "    </tr>\n",
       "    <tr>\n",
       "      <th>3</th>\n",
       "      <td>00038166</td>\n",
       "      <td>BACEN</td>\n",
       "      <td>Desconhecido</td>\n",
       "      <td>BANCO CENTRAL DO BRASIL</td>\n",
       "    </tr>\n",
       "    <tr>\n",
       "      <th>4</th>\n",
       "      <td>00122327</td>\n",
       "      <td>SANTINVEST S.A. - CFI</td>\n",
       "      <td>539.0</td>\n",
       "      <td>SANTINVEST S.A. - CREDITO, FINANCIAMENTO E INV...</td>\n",
       "    </tr>\n",
       "  </tbody>\n",
       "</table>\n",
       "</div>"
      ],
      "text/plain": [
       "       ISPB                  Nome_Banco  Codigo_Banco  \\\n",
       "0  00000000          BCO DO BRASIL S.A.           1.0   \n",
       "1  00000208  BRB - BCO DE BRASILIA S.A.          70.0   \n",
       "2  00038121                       SELIC  Desconhecido   \n",
       "3  00038166                       BACEN  Desconhecido   \n",
       "4  00122327       SANTINVEST S.A. - CFI         539.0   \n",
       "\n",
       "                                       Nome_Completo  \n",
       "0                               BANCO DO BRASIL S.A.  \n",
       "1                       BRB - BANCO DE BRASILIA S.A.  \n",
       "2                    BANCO CENTRAL DO BRASIL - SELIC  \n",
       "3                            BANCO CENTRAL DO BRASIL  \n",
       "4  SANTINVEST S.A. - CREDITO, FINANCIAMENTO E INV...  "
      ]
     },
     "metadata": {},
     "output_type": "display_data"
    }
   ],
   "source": [
    "# Verificar a tabela de Bancos\n",
    "if not df_bancos.empty:\n",
    "    bancos_exportados = pd.read_sql_query(\"SELECT * FROM tabela_bancos\", conexao)\n",
    "    display(\"Validação - Tabela de Bancos:\")\n",
    "    display(bancos_exportados.head())"
   ]
  },
  {
   "cell_type": "code",
   "execution_count": 67,
   "metadata": {},
   "outputs": [
    {
     "data": {
      "text/plain": [
       "'Validação - Tabela de Feriados:'"
      ]
     },
     "metadata": {},
     "output_type": "display_data"
    },
    {
     "data": {
      "text/html": [
       "<div>\n",
       "<style scoped>\n",
       "    .dataframe tbody tr th:only-of-type {\n",
       "        vertical-align: middle;\n",
       "    }\n",
       "\n",
       "    .dataframe tbody tr th {\n",
       "        vertical-align: top;\n",
       "    }\n",
       "\n",
       "    .dataframe thead th {\n",
       "        text-align: right;\n",
       "    }\n",
       "</style>\n",
       "<table border=\"1\" class=\"dataframe\">\n",
       "  <thead>\n",
       "    <tr style=\"text-align: right;\">\n",
       "      <th></th>\n",
       "      <th>date</th>\n",
       "      <th>name</th>\n",
       "      <th>type</th>\n",
       "    </tr>\n",
       "  </thead>\n",
       "  <tbody>\n",
       "    <tr>\n",
       "      <th>0</th>\n",
       "      <td>2024-01-01</td>\n",
       "      <td>Confraternização mundial</td>\n",
       "      <td>national</td>\n",
       "    </tr>\n",
       "    <tr>\n",
       "      <th>1</th>\n",
       "      <td>2024-02-13</td>\n",
       "      <td>Carnaval</td>\n",
       "      <td>national</td>\n",
       "    </tr>\n",
       "    <tr>\n",
       "      <th>2</th>\n",
       "      <td>2024-03-29</td>\n",
       "      <td>Sexta-feira Santa</td>\n",
       "      <td>national</td>\n",
       "    </tr>\n",
       "    <tr>\n",
       "      <th>3</th>\n",
       "      <td>2024-03-31</td>\n",
       "      <td>Páscoa</td>\n",
       "      <td>national</td>\n",
       "    </tr>\n",
       "    <tr>\n",
       "      <th>4</th>\n",
       "      <td>2024-04-21</td>\n",
       "      <td>Tiradentes</td>\n",
       "      <td>national</td>\n",
       "    </tr>\n",
       "  </tbody>\n",
       "</table>\n",
       "</div>"
      ],
      "text/plain": [
       "         date                      name      type\n",
       "0  2024-01-01  Confraternização mundial  national\n",
       "1  2024-02-13                  Carnaval  national\n",
       "2  2024-03-29         Sexta-feira Santa  national\n",
       "3  2024-03-31                    Páscoa  national\n",
       "4  2024-04-21                Tiradentes  national"
      ]
     },
     "metadata": {},
     "output_type": "display_data"
    }
   ],
   "source": [
    "# Verificar a tabela de Feriados\n",
    "if not df_feriados.empty:\n",
    "    feriados_exportados = pd.read_sql_query(\"SELECT * FROM tabela_feriados\", conexao)\n",
    "    display(\"Validação - Tabela de Feriados:\")\n",
    "    display(feriados_exportados.head())"
   ]
  },
  {
   "cell_type": "code",
   "execution_count": 68,
   "metadata": {},
   "outputs": [
    {
     "data": {
      "text/plain": [
       "'Validação - Tabela de CNPJ:'"
      ]
     },
     "metadata": {},
     "output_type": "display_data"
    },
    {
     "data": {
      "text/html": [
       "<div>\n",
       "<style scoped>\n",
       "    .dataframe tbody tr th:only-of-type {\n",
       "        vertical-align: middle;\n",
       "    }\n",
       "\n",
       "    .dataframe tbody tr th {\n",
       "        vertical-align: top;\n",
       "    }\n",
       "\n",
       "    .dataframe thead th {\n",
       "        text-align: right;\n",
       "    }\n",
       "</style>\n",
       "<table border=\"1\" class=\"dataframe\">\n",
       "  <thead>\n",
       "    <tr style=\"text-align: right;\">\n",
       "      <th></th>\n",
       "      <th>cnpj</th>\n",
       "      <th>razao_social</th>\n",
       "      <th>descricao_situacao_cadastral</th>\n",
       "    </tr>\n",
       "  </thead>\n",
       "  <tbody>\n",
       "    <tr>\n",
       "      <th>0</th>\n",
       "      <td>00000000000191</td>\n",
       "      <td>BANCO DO BRASIL SA</td>\n",
       "      <td>ATIVA</td>\n",
       "    </tr>\n",
       "  </tbody>\n",
       "</table>\n",
       "</div>"
      ],
      "text/plain": [
       "             cnpj        razao_social descricao_situacao_cadastral\n",
       "0  00000000000191  BANCO DO BRASIL SA                        ATIVA"
      ]
     },
     "metadata": {},
     "output_type": "display_data"
    }
   ],
   "source": [
    "# Verificar a tabela de CNPJ\n",
    "if not df_cnpj.empty:\n",
    "    cnpj_exportados = pd.read_sql_query(\"SELECT * FROM tabela_cnpj\", conexao)\n",
    "    display(\"Validação - Tabela de CNPJ:\")\n",
    "    display(cnpj_exportados.head())"
   ]
  },
  {
   "cell_type": "markdown",
   "metadata": {},
   "source": [
    "Fechar Conexão"
   ]
  },
  {
   "cell_type": "code",
   "execution_count": 69,
   "metadata": {},
   "outputs": [],
   "source": [
    "# Fechar conexão após validação\n",
    "conexao.close()"
   ]
  }
 ],
 "metadata": {
  "kernelspec": {
   "display_name": "Python 3",
   "language": "python",
   "name": "python3"
  },
  "language_info": {
   "codemirror_mode": {
    "name": "ipython",
    "version": 3
   },
   "file_extension": ".py",
   "mimetype": "text/x-python",
   "name": "python",
   "nbconvert_exporter": "python",
   "pygments_lexer": "ipython3",
   "version": "3.12.1"
  }
 },
 "nbformat": 4,
 "nbformat_minor": 2
}
