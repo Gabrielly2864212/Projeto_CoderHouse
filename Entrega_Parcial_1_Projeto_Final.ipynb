{
 "cells": [
  {
   "cell_type": "markdown",
   "metadata": {},
   "source": [
    "Importação das Bibliotecas"
   ]
  },
  {
   "cell_type": "code",
   "execution_count": 7,
   "metadata": {},
   "outputs": [],
   "source": [
    "import requests\n",
    "import pandas as pd\n",
    "from plyer import notification"
   ]
  },
  {
   "cell_type": "markdown",
   "metadata": {},
   "source": [
    "Extração de Dados da API"
   ]
  },
  {
   "cell_type": "code",
   "execution_count": 8,
   "metadata": {},
   "outputs": [],
   "source": [
    "# Definindo a URL da API\n",
    "url = 'https://brasilapi.com.br/api/banks/v1'\n",
    "\n",
    "# Função para extrair dados da API\n",
    "def fetch_data(url):\n",
    "    try:\n",
    "        response = requests.get(url)\n",
    "        response.raise_for_status()  # Verifica se a requisição foi bem-sucedida\n",
    "        data = response.json()\n",
    "        return data\n",
    "    except requests.exceptions.RequestException as e:\n",
    "        # Se ocorrer um erro, exibe uma notificação\n",
    "        notification.notify(\n",
    "            title='Erro na Requisição',\n",
    "            message=f'Ocorreu um erro ao acessar a API: {e}',\n",
    "            timeout=10\n",
    "        )\n",
    "        print(f'Erro: {e}')\n",
    "        return None"
   ]
  },
  {
   "cell_type": "markdown",
   "metadata": {},
   "source": [
    "Processamento e Estruturação dos Dados"
   ]
  },
  {
   "cell_type": "code",
   "execution_count": 9,
   "metadata": {},
   "outputs": [
    {
     "name": "stdout",
     "output_type": "stream",
     "text": [
      "       ispb                        name   code  \\\n",
      "0  00000000          BCO DO BRASIL S.A.    1.0   \n",
      "1  00000208  BRB - BCO DE BRASILIA S.A.   70.0   \n",
      "2  00038121                       Selic    NaN   \n",
      "3  00038166                       Bacen    NaN   \n",
      "4  00122327       SANTINVEST S.A. - CFI  539.0   \n",
      "\n",
      "                                            fullName  \n",
      "0                               Banco do Brasil S.A.  \n",
      "1                       BRB - BANCO DE BRASILIA S.A.  \n",
      "2                    Banco Central do Brasil - Selic  \n",
      "3                            Banco Central do Brasil  \n",
      "4  SANTINVEST S.A. - CREDITO, FINANCIAMENTO E INV...  \n"
     ]
    }
   ],
   "source": [
    "# Função para converter dados em DataFrame\n",
    "def process_data(data):\n",
    "    if data is None:\n",
    "        return None\n",
    "    # Convertendo dados para DataFrame\n",
    "    df = pd.DataFrame(data)\n",
    "    return df\n",
    "\n",
    "# Obtendo dados da API\n",
    "data = fetch_data(url)\n",
    "\n",
    "# Processando os dados\n",
    "df = process_data(data)\n",
    "\n",
    "# Exibindo os primeiros registros do DataFrame\n",
    "if df is not None:\n",
    "    print(df.head())"
   ]
  },
  {
   "cell_type": "markdown",
   "metadata": {},
   "source": [
    "Exibindo um alerta de Sucesso"
   ]
  },
  {
   "cell_type": "code",
   "execution_count": 11,
   "metadata": {},
   "outputs": [],
   "source": [
    "# Se o DataFrame não estiver vazio, exibe uma notificação de sucesso\n",
    "if df is not None and not df.empty:\n",
    "    notification.notify(\n",
    "        title='Dados Extraídos com Sucesso',\n",
    "        message='Os dados foram extraídos e estruturados com sucesso!',\n",
    "        timeout=10\n",
    "    )"
   ]
  }
 ],
 "metadata": {
  "kernelspec": {
   "display_name": "Python 3",
   "language": "python",
   "name": "python3"
  },
  "language_info": {
   "codemirror_mode": {
    "name": "ipython",
    "version": 3
   },
   "file_extension": ".py",
   "mimetype": "text/x-python",
   "name": "python",
   "nbconvert_exporter": "python",
   "pygments_lexer": "ipython3",
   "version": "3.12.1"
  }
 },
 "nbformat": 4,
 "nbformat_minor": 2
}
