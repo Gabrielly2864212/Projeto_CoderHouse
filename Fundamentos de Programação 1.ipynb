{
 "cells": [
  {
   "cell_type": "code",
   "execution_count": 2,
   "metadata": {},
   "outputs": [
    {
     "name": "stdout",
     "output_type": "stream",
     "text": [
      "Hello World\n"
     ]
    }
   ],
   "source": [
    "print('Hello World')\n",
    "#exibe na tela o argumento informado"
   ]
  },
  {
   "cell_type": "markdown",
   "metadata": {},
   "source": [
    "Variáveis e funções"
   ]
  },
  {
   "cell_type": "code",
   "execution_count": 7,
   "metadata": {},
   "outputs": [],
   "source": [
    "#variáveis\n",
    "variavel= 'Hello World'\n",
    "variavel= 'outro texto'"
   ]
  },
  {
   "cell_type": "code",
   "execution_count": 10,
   "metadata": {},
   "outputs": [
    {
     "name": "stdout",
     "output_type": "stream",
     "text": [
      "outro texto\n"
     ]
    }
   ],
   "source": [
    "print(variavel)\n",
    "# se a variável tem mais de uma atribuição, será considerada a última\n",
    "# não recomendado utilizar palavras reservadas como nomes de variáveis\n",
    "# não posso começar variável com número\n",
    "# não é recomendado usar acento nem na variavel e nem no código\n",
    "# há distinção entre palavras com letras maiúsculas e minúsculas"
   ]
  },
  {
   "cell_type": "code",
   "execution_count": 11,
   "metadata": {},
   "outputs": [
    {
     "data": {
      "text/plain": [
       "'Teste'"
      ]
     },
     "execution_count": 11,
     "metadata": {},
     "output_type": "execute_result"
    }
   ],
   "source": [
    "texto=input('Digite um texto: ')\n",
    "texto\n",
    "#função que vai permitir o usuário inserir alguma coisa para seguir, normalmente será acompanhada de um objeto\n"
   ]
  },
  {
   "cell_type": "code",
   "execution_count": 13,
   "metadata": {},
   "outputs": [
    {
     "data": {
      "text/plain": [
       "int"
      ]
     },
     "execution_count": 13,
     "metadata": {},
     "output_type": "execute_result"
    }
   ],
   "source": [
    "type(1) \n",
    "#função que retorna o tipo do argumento informado\n",
    "#inteiro (int) =  número inteiro\n",
    "#bool (booleano) = True ou False\n",
    "#string (str) = texto"
   ]
  },
  {
   "cell_type": "markdown",
   "metadata": {},
   "source": [
    "Operadores"
   ]
  },
  {
   "cell_type": "code",
   "execution_count": 15,
   "metadata": {},
   "outputs": [
    {
     "data": {
      "text/plain": [
       "3"
      ]
     },
     "execution_count": 15,
     "metadata": {},
     "output_type": "execute_result"
    }
   ],
   "source": [
    "#Adição e Subtração\n",
    "\n",
    "1+2\n",
    "2-1\n",
    "resultado=1+2\n",
    "resultado"
   ]
  },
  {
   "cell_type": "code",
   "execution_count": null,
   "metadata": {},
   "outputs": [],
   "source": [
    "#Multiplicação\n",
    "\n",
    "2*3"
   ]
  },
  {
   "cell_type": "code",
   "execution_count": 18,
   "metadata": {},
   "outputs": [
    {
     "name": "stdout",
     "output_type": "stream",
     "text": [
      "resultado 2\n",
      "resto 1\n"
     ]
    }
   ],
   "source": [
    "#Divisão\n",
    "##Inteiros (//) e Resto (%)\n",
    "\n",
    "print('resultado:',5//2)\n",
    "print('resto:',5%2)\n"
   ]
  },
  {
   "cell_type": "code",
   "execution_count": 19,
   "metadata": {},
   "outputs": [
    {
     "data": {
      "text/plain": [
       "2.5"
      ]
     },
     "execution_count": 19,
     "metadata": {},
     "output_type": "execute_result"
    }
   ],
   "source": [
    "#Exata\n",
    "5/2"
   ]
  },
  {
   "cell_type": "code",
   "execution_count": 20,
   "metadata": {},
   "outputs": [
    {
     "data": {
      "text/plain": [
       "8"
      ]
     },
     "execution_count": 20,
     "metadata": {},
     "output_type": "execute_result"
    }
   ],
   "source": [
    "#Potenciação e Radiciação\n",
    "2**3"
   ]
  },
  {
   "cell_type": "markdown",
   "metadata": {},
   "source": [
    "Operadores Lógicos: sempre vão retornar um booleano (true or false)"
   ]
  },
  {
   "cell_type": "code",
   "execution_count": 21,
   "metadata": {},
   "outputs": [],
   "source": [
    "#Maior (>) e Menor (<)\n",
    "#Maior ou Igual (>=) e Menor ou Igual (<=)\n",
    "#Igual (==) ou Diferente (!=)"
   ]
  },
  {
   "cell_type": "markdown",
   "metadata": {},
   "source": [
    "Strings: tudo que vem entre aspas"
   ]
  },
  {
   "cell_type": "code",
   "execution_count": null,
   "metadata": {},
   "outputs": [],
   "source": [
    "#Textos\n",
    "'Texto completo'\n",
    "'Texto com sinais (!, :)'\n",
    "'Textos com número s de 1 a infinito'\n",
    "'Texto com datas'\n",
    "'Posso também usar aspas duplas para delimitar o texto'"
   ]
  },
  {
   "cell_type": "code",
   "execution_count": 24,
   "metadata": {},
   "outputs": [
    {
     "name": "stdout",
     "output_type": "stream",
     "text": [
      "oi\n",
      "tudo bem?\n"
     ]
    }
   ],
   "source": [
    "#Observações e erros\n",
    "\n",
    "print('oi\\ntudo bem?')\n",
    "# o \"\\n\" serve para pular linha na execução do código"
   ]
  },
  {
   "cell_type": "code",
   "execution_count": 30,
   "metadata": {},
   "outputs": [
    {
     "name": "stdout",
     "output_type": "stream",
     "text": [
      "oi blz?\n"
     ]
    },
    {
     "data": {
      "text/plain": [
       "'oi blz'"
      ]
     },
     "execution_count": 30,
     "metadata": {},
     "output_type": "execute_result"
    }
   ],
   "source": [
    "#Mistos\n",
    "texto1='oi'\n",
    "texto2='blz?'\n",
    "print(texto1+' '+texto2)\n",
    "'oi' + ' ' + 'blz'"
   ]
  },
  {
   "cell_type": "markdown",
   "metadata": {},
   "source": [
    "Manipulação de Strings"
   ]
  },
  {
   "cell_type": "code",
   "execution_count": 31,
   "metadata": {},
   "outputs": [
    {
     "name": "stdout",
     "output_type": "stream",
     "text": [
      "Seu nome é Gabrielly\n"
     ]
    }
   ],
   "source": [
    "nome=input('Digite seu nome: ')\n",
    "idade=input('Digite a sua idade: ')\n",
    "print('Seu nome é', nome)"
   ]
  },
  {
   "cell_type": "code",
   "execution_count": 32,
   "metadata": {},
   "outputs": [
    {
     "name": "stdout",
     "output_type": "stream",
     "text": [
      "Seu nome é Gabrielly e tem 25 anos\n"
     ]
    }
   ],
   "source": [
    "print('Seu nome é', nome, 'e tem', idade, 'anos')"
   ]
  },
  {
   "cell_type": "code",
   "execution_count": 33,
   "metadata": {},
   "outputs": [
    {
     "data": {
      "text/plain": [
       "'seu nome é Gabrielly e tem 25 anos'"
      ]
     },
     "execution_count": 33,
     "metadata": {},
     "output_type": "execute_result"
    }
   ],
   "source": [
    "#f\n",
    "\n",
    "f'seu nome é {nome} e tem {idade} anos'"
   ]
  },
  {
   "cell_type": "code",
   "execution_count": 35,
   "metadata": {},
   "outputs": [
    {
     "data": {
      "text/plain": [
       "'seu nome é Gabrielly e tem 25 anos'"
      ]
     },
     "execution_count": 35,
     "metadata": {},
     "output_type": "execute_result"
    }
   ],
   "source": [
    "# %s, %i e %f  \n",
    "#Usado para representar variáveis facilmente dentro de um texto, após o texto definimos quais são as variáveis\n",
    "# %s para string\n",
    "# %i para inteiro\n",
    "\n",
    "'seu nome é %s e tem %s anos'% (nome, idade)\n"
   ]
  },
  {
   "cell_type": "code",
   "execution_count": 36,
   "metadata": {},
   "outputs": [
    {
     "data": {
      "text/plain": [
       "'Seu nome é Gabrielly e tem 25 anos'"
      ]
     },
     "execution_count": 36,
     "metadata": {},
     "output_type": "execute_result"
    }
   ],
   "source": [
    "#Format\n",
    "'Seu nome é {0} e tem {1} anos'.format(nome,idade)"
   ]
  }
 ],
 "metadata": {
  "kernelspec": {
   "display_name": "Python 3",
   "language": "python",
   "name": "python3"
  },
  "language_info": {
   "codemirror_mode": {
    "name": "ipython",
    "version": 3
   },
   "file_extension": ".py",
   "mimetype": "text/x-python",
   "name": "python",
   "nbconvert_exporter": "python",
   "pygments_lexer": "ipython3",
   "version": "3.12.1"
  }
 },
 "nbformat": 4,
 "nbformat_minor": 2
}
